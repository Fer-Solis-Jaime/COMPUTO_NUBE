{
  "nbformat": 4,
  "nbformat_minor": 0,
  "metadata": {
    "colab": {
      "provenance": [],
      "authorship_tag": "ABX9TyMJw2HcCNu2q0w7/68u4aT+",
      "include_colab_link": true
    },
    "kernelspec": {
      "name": "python3",
      "display_name": "Python 3"
    },
    "language_info": {
      "name": "python"
    }
  },
  "cells": [
    {
      "cell_type": "markdown",
      "metadata": {
        "id": "view-in-github",
        "colab_type": "text"
      },
      "source": [
        "<a href=\"https://colab.research.google.com/github/Fer-Solis-Jaime/COMPUTO_NUBE/blob/main/Ejercicios_1_2_PYTHON_MATERIA_COMPUTO_PARALELO.ipynb\" target=\"_parent\"><img src=\"https://colab.research.google.com/assets/colab-badge.svg\" alt=\"Open In Colab\"/></a>"
      ]
    },
    {
      "cell_type": "markdown",
      "source": [
        "# SOLIS_JAIME_FERNANDO_EMMANUEL\n",
        "## COMPUTO EN LA NUBE\n",
        "## IIA-7"
      ],
      "metadata": {
        "id": "TOL2UL8IBkeT"
      }
    },
    {
      "cell_type": "markdown",
      "source": [
        "# Ejercico 1 Objetos y clases"
      ],
      "metadata": {
        "id": "k7e_Iy8x__qR"
      }
    },
    {
      "cell_type": "code",
      "source": [
        "# bike.py\n",
        "# Definimos la clase para representar una bicicleta\n",
        "class Bike:\n",
        "    # Constructor de la clase que inicializa la bicicleta con su color y material del marco.\n",
        "    def __init__(self, colour, frame_material):\n",
        "        self.colour = colour\n",
        "        self.frame_material = frame_material\n",
        "\n",
        "    # Método para simular frenar la bicicleta.\n",
        "    def brake(self):\n",
        "        print(\"¡FRENOS!\")\n",
        "\n",
        "# Crear dos instancias de la clase \"Bike\" con diferentes colores y materiales de marco.\n",
        "red_bike = Bike('ROJA', 'FIBRA DE CARBONO')\n",
        "blue_bike = Bike('AZUL', 'ACERO')\n",
        "\n",
        "# Mostrar las características de las bicicletas.\n",
        "print(\"Pintura:\", red_bike.colour)\n",
        "print(\"Material del marco:\", red_bike.frame_material)\n",
        "print(\"Pintura:\", blue_bike.colour)\n",
        "print(\"Material del marco:\", blue_bike.frame_material)\n",
        "\n",
        "# Simular frenar la bicicleta roja.\n",
        "red_bike.brake()\n"
      ],
      "metadata": {
        "colab": {
          "base_uri": "https://localhost:8080/"
        },
        "id": "vqUYyY6UALFt",
        "outputId": "1f77c659-eb9d-413a-8d71-f9c27cf4fd2a"
      },
      "execution_count": 3,
      "outputs": [
        {
          "output_type": "stream",
          "name": "stdout",
          "text": [
            "Pintura: ROJA\n",
            "Material del marco: FIBRA DE CARBONO\n",
            "Pintura: AZUL\n",
            "Material del marco: ACERO\n",
            "¡FRENOS!\n"
          ]
        }
      ]
    },
    {
      "cell_type": "markdown",
      "source": [
        "# EJERCICIO 2 MUTABLE O INMUTABLE"
      ],
      "metadata": {
        "id": "hd7TCj4qQEU8"
      }
    },
    {
      "cell_type": "code",
      "source": [
        "# Definición de la clase \"Person\" que representa a una persona.\n",
        "class Person:\n",
        "    # Constructor de la clase, inicializa el objeto con la edad proporcionada.\n",
        "    def __init__(self, age):\n",
        "        self.age = age\n",
        "\n",
        "# Creación de una instancia de la clase \"Person\" con edad 42 y asignación a la variable \"fab\".\n",
        "fab = Person(age=42)\n",
        "\n",
        "# Imprime la edad de la instancia \"fab\".\n",
        "print(fab.age)\n",
        "\n",
        "# Imprime el ID de la variable \"age\" (esto generará un error, ya que \"age\" no está definida en este ámbito).\n",
        "print(id(age))\n",
        "\n",
        "# Imprime el ID de la propiedad \"age\" de la instancia \"fab\".\n",
        "print(id(fab.age))\n",
        "\n",
        "# Modifica la edad de la instancia \"fab\" a 25.\n",
        "fab.age = 25\n",
        "\n",
        "# Imprime el ID de la instancia \"fab\".\n",
        "print(id(fab))\n",
        "\n",
        "# Imprime el ID de la propiedad \"age\" de la instancia \"fab\" después de modificarla.\n",
        "print(id(fab.age))\n",
        "\n"
      ],
      "metadata": {
        "colab": {
          "base_uri": "https://localhost:8080/",
          "height": 262
        },
        "id": "30YPS03SS_l0",
        "outputId": "389bea31-5f96-43fd-c207-2de9fecf3c20"
      },
      "execution_count": 4,
      "outputs": [
        {
          "output_type": "stream",
          "name": "stdout",
          "text": [
            "42\n"
          ]
        },
        {
          "output_type": "error",
          "ename": "NameError",
          "evalue": "ignored",
          "traceback": [
            "\u001b[0;31m---------------------------------------------------------------------------\u001b[0m",
            "\u001b[0;31mNameError\u001b[0m                                 Traceback (most recent call last)",
            "\u001b[0;32m<ipython-input-4-f73db712bc79>\u001b[0m in \u001b[0;36m<cell line: 14>\u001b[0;34m()\u001b[0m\n\u001b[1;32m     12\u001b[0m \u001b[0;34m\u001b[0m\u001b[0m\n\u001b[1;32m     13\u001b[0m \u001b[0;31m# Imprime el ID de la variable \"age\" (esto generará un error, ya que \"age\" no está definida en este ámbito).\u001b[0m\u001b[0;34m\u001b[0m\u001b[0;34m\u001b[0m\u001b[0m\n\u001b[0;32m---> 14\u001b[0;31m \u001b[0mprint\u001b[0m\u001b[0;34m(\u001b[0m\u001b[0mid\u001b[0m\u001b[0;34m(\u001b[0m\u001b[0mage\u001b[0m\u001b[0;34m)\u001b[0m\u001b[0;34m)\u001b[0m\u001b[0;34m\u001b[0m\u001b[0;34m\u001b[0m\u001b[0m\n\u001b[0m\u001b[1;32m     15\u001b[0m \u001b[0;34m\u001b[0m\u001b[0m\n\u001b[1;32m     16\u001b[0m \u001b[0;31m# Imprime el ID de la propiedad \"age\" de la instancia \"fab\".\u001b[0m\u001b[0;34m\u001b[0m\u001b[0;34m\u001b[0m\u001b[0m\n",
            "\u001b[0;31mNameError\u001b[0m: name 'age' is not defined"
          ]
        }
      ]
    },
    {
      "cell_type": "markdown",
      "source": [
        "# EJEMOPLO 3 Numeros complejos"
      ],
      "metadata": {
        "id": "4N8Rrd1Gaxut"
      }
    },
    {
      "cell_type": "code",
      "source": [
        "# Creación de un número complejo \"c\" de la forma 3.14 + 2.73j.\n",
        "c = 3.14 + 2.73j\n",
        "print(c)\n",
        "\n",
        "# También puedes crearlo utilizando la función \"complex\".\n",
        "c1 = complex(3.14, 2.73)\n",
        "print(c1)\n",
        "\n",
        "# Imprimir la parte real de \"c\".\n",
        "print(c.real)\n",
        "\n",
        "# Imprimir la parte imaginaria de \"c\".\n",
        "print(c.imag)\n",
        "\n",
        "# Calcular el conjugado de \"c\" y mostrarlo.\n",
        "print(c.conjugate())\n",
        "\n",
        "# Multiplicar \"c\" por 2 y mostrar el resultado.\n",
        "print(c * 2)\n",
        "\n",
        "# Elevar \"c\" al cuadrado y mostrar el resultado.\n",
        "print(c ** 2)\n",
        "\n",
        "# Crear otro número complejo \"d\".\n",
        "d = 1 + 1j\n",
        "\n",
        "# Restar \"d\" de \"c\" y mostrar el resultado.\n",
        "print(c - d)\n"
      ],
      "metadata": {
        "colab": {
          "base_uri": "https://localhost:8080/"
        },
        "id": "m7Dlg7hgYd4j",
        "outputId": "05e6e817-26d6-4a0c-b513-c03944b557cc"
      },
      "execution_count": 7,
      "outputs": [
        {
          "output_type": "stream",
          "name": "stdout",
          "text": [
            "(3.14+2.73j)\n",
            "(3.14+2.73j)\n",
            "3.14\n",
            "2.73\n",
            "(3.14-2.73j)\n",
            "(6.28+5.46j)\n",
            "(2.4067000000000007+17.1444j)\n",
            "(2.14+1.73j)\n"
          ]
        }
      ]
    },
    {
      "cell_type": "markdown",
      "source": [
        "Fracciones y decimales"
      ],
      "metadata": {
        "id": "zSMkUYnbatsY"
      }
    },
    {
      "cell_type": "code",
      "source": [
        "from fractions import Fraction\n",
        "print(Fraction (10, 6))\n",
        "print(Fraction(1, 3) + Fraction (2, 3))\n",
        "f = Fraction(10, 6)\n",
        "print(f.numerator)\n",
        "print(f.denominator)\n",
        "print(f.as_integer_ratio())"
      ],
      "metadata": {
        "colab": {
          "base_uri": "https://localhost:8080/"
        },
        "id": "kEw_6cUfZYAI",
        "outputId": "9d41c24f-de79-48fb-8a8a-00ab44ec0083"
      },
      "execution_count": null,
      "outputs": [
        {
          "output_type": "stream",
          "name": "stdout",
          "text": [
            "5/3\n",
            "1\n",
            "5\n",
            "3\n",
            "(5, 3)\n"
          ]
        }
      ]
    },
    {
      "cell_type": "code",
      "source": [
        "from decimal import Decimal as D\n",
        "print(D(3.14))\n",
        "print(D('3.14'))\n",
        "print(D('0.1') * D(3) - D('0.3'))\n",
        "print(D('1.4').as_integer_ratio())"
      ],
      "metadata": {
        "colab": {
          "base_uri": "https://localhost:8080/"
        },
        "id": "vNJxRH-tbDSs",
        "outputId": "67f3fdc9-99e1-4545-b4f1-5aa539c9006e"
      },
      "execution_count": null,
      "outputs": [
        {
          "output_type": "stream",
          "name": "stdout",
          "text": [
            "3.140000000000000124344978758017532527446746826171875\n",
            "3.14\n",
            "0.0\n",
            "(7, 5)\n"
          ]
        }
      ]
    },
    {
      "cell_type": "markdown",
      "source": [
        "#EJEMPLO 4  String sy bytes"
      ],
      "metadata": {
        "id": "QP7l-crPg8Hg"
      }
    },
    {
      "cell_type": "code",
      "source": [
        "# 4 maneras de crear una cadena de texto en Python.\n",
        "\n",
        "# Usando comillas simples para crear una cadena de texto.\n",
        "str1 = 'Esto es una cadena. La construimos con comillas simples.'\n",
        "\n",
        "# Usando comillas dobles para crear otra cadena de texto.\n",
        "str2 = \"Esto también es una cadena, pero construida con comillas dobles.\"\n",
        "\n",
        "# Usando comillas triples (simples o dobles) para crear una cadena multilinea.\n",
        "str3 = '''Esto se construye usando comillas triples,\n",
        "... por lo que puede abarcar varias líneas.'''\n",
        "\n",
        "str4 = \"\"\"Esto también\n",
        "... es una cadena multilinea\n",
        "... construida con comillas triples dobles.\"\"\"\n",
        "\n",
        "# Imprimir cada cadena de texto.\n",
        "print(str1)\n",
        "print(str2)\n",
        "print(str3)\n",
        "\n",
        "# Imprimir la cadena de texto \"str4\".\n",
        "print(str4)  # Imprime el contenido de \"str4\" (A).\n",
        "\n",
        "# Comentario: \"str4\" contiene saltos de línea que se imprimen como '\\n'.\n",
        "# Esto es una cadena multilinea:\n",
        "# Esto también\n",
        "# es una cadena multilinea\n",
        "# construida con comillas triples dobles.\n",
        "\n",
        "# Mostrar la longitud de la cadena de texto \"str1\".\n",
        "print(len(str1))  # Imprime la longitud de \"str1\" (B).\n",
        "\n"
      ],
      "metadata": {
        "colab": {
          "base_uri": "https://localhost:8080/"
        },
        "id": "xcRUByvjg_LV",
        "outputId": "43b02017-060f-41fb-ec28-e3249c56c019"
      },
      "execution_count": 8,
      "outputs": [
        {
          "output_type": "stream",
          "name": "stdout",
          "text": [
            "Esto es una cadena. La construimos con comillas simples.\n",
            "Esto también es una cadena, pero construida con comillas dobles.\n",
            "Esto se construye usando comillas triples,\n",
            "... por lo que puede abarcar varias líneas.\n",
            "Esto también\n",
            "... es una cadena multilinea\n",
            "... construida con comillas triples dobles.\n",
            "56\n"
          ]
        }
      ]
    },
    {
      "cell_type": "code",
      "source": [
        "s = 'Hello There'\n",
        "print(s.removeprefix('Hell'))\n",
        "print(s.removesuffix('here'))\n",
        "print(s.removeprefix('Hola'))"
      ],
      "metadata": {
        "colab": {
          "base_uri": "https://localhost:8080/"
        },
        "id": "wToIWvigpTMg",
        "outputId": "33001360-f154-4ae9-a514-7a6d786f2ea6"
      },
      "execution_count": null,
      "outputs": [
        {
          "output_type": "stream",
          "name": "stdout",
          "text": [
            "o There\n",
            "Hello T\n",
            "Hello There\n"
          ]
        }
      ]
    },
    {
      "cell_type": "markdown",
      "source": [
        "#EJEMPLO 5 Encoding y decoding"
      ],
      "metadata": {
        "id": "Z1p7yvO5HvKG"
      }
    },
    {
      "cell_type": "code",
      "source": [
        "# Definir una cadena de texto con caracteres Unicode.\n",
        "s = \"This is üŋíc0de\"\n",
        "\n",
        "# Imprimir el tipo de dato de la variable \"s\".\n",
        "print(type(s))  # Imprime <class 'str'>, indicando que \"s\" es una cadena de texto.\n",
        "\n",
        "# Codificar la cadena de texto \"s\" en UTF-8.\n",
        "encoded_s = s.encode('utf-8')\n",
        "\n",
        "# Imprimir la representación en bytes de la cadena codificada.\n",
        "print(encoded_s)\n",
        "\n",
        "# Imprimir el tipo de dato de la variable \"encoded_s\" (esto no afecta la salida, se omite el resultado).\n",
        "type(encoded_s)\n",
        "\n",
        "# Decodificar la cadena codificada de nuevo a UTF-8 y mostrarla.\n",
        "decoded_s = encoded_s.decode('utf-8')\n",
        "print(decoded_s)  # Imprime la cadena original \"This is üŋíc0de\".\n"
      ],
      "metadata": {
        "colab": {
          "base_uri": "https://localhost:8080/"
        },
        "id": "Tq-XKmZFH6sH",
        "outputId": "91465820-2a8b-44c8-c22c-f6b93c4fd293"
      },
      "execution_count": 9,
      "outputs": [
        {
          "output_type": "stream",
          "name": "stdout",
          "text": [
            "<class 'str'>\n",
            "b'This is \\xc3\\xbc\\xc5\\x8b\\xc3\\xadc0de'\n",
            "This is üŋíc0de\n"
          ]
        }
      ]
    },
    {
      "cell_type": "markdown",
      "source": [
        "#EJEMPLO 6 String foarming"
      ],
      "metadata": {
        "id": "-oUECNZEJbpc"
      }
    },
    {
      "cell_type": "code",
      "source": [
        "# Definir una variable con un nombre.\n",
        "nombre = 'Fernando'\n",
        "\n",
        "# Definir una variable con una edad.\n",
        "edad = 22\n",
        "\n",
        "# Crear una cadena de texto utilizando f-strings para formatear los valores de las variables \"nombre\" y \"edad\".\n",
        "mensaje1 = f\"Hola! Mi nombre es {nombre} y mi edad es {edad}\"\n",
        "\n",
        "# Imprimir la cadena formateada.\n",
        "print(mensaje1)  # Imprime \"Hola! Mi nombre es Fernando y mi edad es 22\".\n",
        "\n",
        "# Importar la constante \"pi\" desde el módulo \"math\".\n",
        "from math import pi\n",
        "\n",
        "# Crear otra cadena de texto utilizando f-strings para incluir el valor de \"pi\".\n",
        "mensaje2 = f\"No discutas con {pi}, es irracional\"\n",
        "\n",
        "# Imprimir la cadena formateada.\n",
        "print(mensaje2)  # Imprime \"No discutas con 3.141592653589793, es irracional\".\n"
      ],
      "metadata": {
        "colab": {
          "base_uri": "https://localhost:8080/"
        },
        "id": "zgjeyrKrJg0J",
        "outputId": "fa2e9c0e-b565-4963-f91a-28e4c3f9a524"
      },
      "execution_count": 10,
      "outputs": [
        {
          "output_type": "stream",
          "name": "stdout",
          "text": [
            "Hola! Mi nombre es Fernando y mi edad es 22\n",
            "No discutas con 3.141592653589793, es irracional\n"
          ]
        }
      ]
    },
    {
      "cell_type": "markdown",
      "source": [
        "#EJEMPLO 7 LISTAS"
      ],
      "metadata": {
        "id": "ywtpqDzdNFTp"
      }
    },
    {
      "cell_type": "code",
      "source": [
        "# Imprimir una lista vacía utilizando corchetes.\n",
        "print([])  # Imprime una lista vacía: []\n",
        "\n",
        "# Imprimir una lista vacía utilizando la función \"list()\".\n",
        "print(list())  # Imprime una lista vacía: []\n",
        "\n",
        "# Imprimir una lista con elementos.\n",
        "print([1, 2, 3])  # Imprime la lista: [1, 2, 3]\n",
        "\n",
        "# Crear una nueva lista con elementos sumados por 5 usando una comprensión de lista.\n",
        "print([x + 5 for x in [2, 3, 4]])  # Imprime la lista: [7, 8, 9]\n",
        "\n",
        "# Crear una lista a partir de una tupla.\n",
        "print(list((1, 3, 5, 7, 9)))  # Imprime la lista: [1, 3, 5, 7, 9]\n",
        "\n",
        "# Crear una lista a partir de una cadena de texto.\n",
        "print(list('HOLA'))  # Imprime la lista de caracteres: ['H', 'O', 'L', 'A']\n"
      ],
      "metadata": {
        "colab": {
          "base_uri": "https://localhost:8080/"
        },
        "id": "324ZBs6nNIls",
        "outputId": "462768e5-d984-45f1-b286-c6a52ddc125a"
      },
      "execution_count": 11,
      "outputs": [
        {
          "output_type": "stream",
          "name": "stdout",
          "text": [
            "[]\n",
            "[]\n",
            "[1, 2, 3]\n",
            "[7, 8, 9]\n",
            "[1, 3, 5, 7, 9]\n",
            "['H', 'O', 'L', 'A']\n"
          ]
        }
      ]
    },
    {
      "cell_type": "markdown",
      "source": [
        "#EJEMPLO 8 INCREMENTO DE INTERESES"
      ],
      "metadata": {
        "id": "uU97RmJeTBJZ"
      }
    },
    {
      "cell_type": "code",
      "source": [
        "# taxes.py\n",
        "\n",
        "# Solicitar al usuario que ingrese el monto de ingresos.\n",
        "prompt = \"Ingrese el monto: \"\n",
        "income = int(input(prompt))\n",
        "\n",
        "# Evaluar el monto de ingresos para determinar el coeficiente fiscal aplicable.\n",
        "if income < 10000:\n",
        "    tax_coefficient = 0.0  # (1) Si los ingresos son menores a $10,000, el coeficiente fiscal es 0%.\n",
        "elif income < 30000:\n",
        "    tax_coefficient = 0.02  # (2) Si los ingresos son menores a $30,000 pero mayores o iguales a $10,000, el coeficiente fiscal es 2%.\n",
        "elif income < 100000:\n",
        "    tax_coefficient = 0.035  # (3) Si los ingresos son menores a $100,000 pero mayores o iguales a $30,000, el coeficiente fiscal es 3.5%.\n",
        "else:\n",
        "    tax_coefficient = 0.045  # (4) Si los ingresos son mayores o iguales a $100,000, el coeficiente fiscal es 4.5%.\n",
        "\n",
        "# Calcular los impuestos a pagar multiplicando el monto de ingresos por el coeficiente fiscal.\n",
        "tax_to_pay = income * tax_coefficient\n",
        "\n",
        "# Mostrar el monto de impuestos a pagar al usuario.\n",
        "print(f'Usted pagará: ${tax_to_pay} en impuestos')\n",
        "\n",
        "#Mostrar el monto total incluido los impoestos.\n",
        "total = income + tax_to_pay\n",
        "print(f'Usted pagara: ${total}')\n"
      ],
      "metadata": {
        "colab": {
          "base_uri": "https://localhost:8080/"
        },
        "id": "TPfjIkeYS9O0",
        "outputId": "897270d3-e6ed-43f4-fd8a-3434c1dd22e0"
      },
      "execution_count": 15,
      "outputs": [
        {
          "output_type": "stream",
          "name": "stdout",
          "text": [
            "Ingrese el monto: 20000\n",
            "Usted pagará: $400.0 en impuestos\n",
            "Usted pagara: $20400.0\n"
          ]
        }
      ]
    },
    {
      "cell_type": "markdown",
      "source": [
        "# EJEMPLO 9 MENU"
      ],
      "metadata": {
        "id": "YTHRAgkVn5jc"
      }
    },
    {
      "cell_type": "code",
      "source": [
        "# menu.no.walrus.py\n",
        "\n",
        "# Definir una lista de sabores disponibles.\n",
        "flavors = [\"pistache\", \"malaga\", \"vainilla\", \"chocolate\", \"fresa\"]\n",
        "\n",
        "# Mensaje de solicitud de elección de sabor.\n",
        "prompt = \"Selecciona un sabor de los antes mencioandos : \"\n",
        "\n",
        "# Mostrar la lista de sabores disponibles.\n",
        "print(flavors)\n",
        "\n",
        "# Iniciar un bucle while que se ejecutará hasta que se haga una elección válida.\n",
        "while True:\n",
        "    # Solicitar al usuario que elija un sabor.\n",
        "    choice = input(prompt)\n",
        "\n",
        "    # Verificar si la elección del usuario está en la lista de sabores.\n",
        "    if choice in flavors:\n",
        "        break  # Si es válido, salir del bucle.\n",
        "\n",
        "    # Si la elección no es válida, mostrar un mensaje de error y continuar en el bucle.\n",
        "    print(f\"Lo sentimos, '{choice}' no es una seleccion aceptable.\")\n",
        "\n",
        "# Mostrar el sabor elegido por el usuario una vez que se sale del bucle.\n",
        "print(f\"Selecciono el sabor de: '{choice}'.\")\n"
      ],
      "metadata": {
        "colab": {
          "base_uri": "https://localhost:8080/",
          "height": 442
        },
        "id": "YhLWBcScn6PE",
        "outputId": "201292fc-1666-4afa-d600-69a4a188c0f7"
      },
      "execution_count": 18,
      "outputs": [
        {
          "output_type": "stream",
          "name": "stdout",
          "text": [
            "['pistache', 'malaga', 'vainilla', 'chocolate', 'fresa']\n",
            "Selecciona un sabor de los antes mencioandos : nuez\n",
            "Lo sentimos, 'nuez' no es una seleccion aceptable.\n"
          ]
        },
        {
          "output_type": "error",
          "ename": "KeyboardInterrupt",
          "evalue": "ignored",
          "traceback": [
            "\u001b[0;31m---------------------------------------------------------------------------\u001b[0m",
            "\u001b[0;31mKeyboardInterrupt\u001b[0m                         Traceback (most recent call last)",
            "\u001b[0;32m<ipython-input-18-8d2980c355e1>\u001b[0m in \u001b[0;36m<cell line: 13>\u001b[0;34m()\u001b[0m\n\u001b[1;32m     13\u001b[0m \u001b[0;32mwhile\u001b[0m \u001b[0;32mTrue\u001b[0m\u001b[0;34m:\u001b[0m\u001b[0;34m\u001b[0m\u001b[0;34m\u001b[0m\u001b[0m\n\u001b[1;32m     14\u001b[0m     \u001b[0;31m# Solicitar al usuario que elija un sabor.\u001b[0m\u001b[0;34m\u001b[0m\u001b[0;34m\u001b[0m\u001b[0m\n\u001b[0;32m---> 15\u001b[0;31m     \u001b[0mchoice\u001b[0m \u001b[0;34m=\u001b[0m \u001b[0minput\u001b[0m\u001b[0;34m(\u001b[0m\u001b[0mprompt\u001b[0m\u001b[0;34m)\u001b[0m\u001b[0;34m\u001b[0m\u001b[0;34m\u001b[0m\u001b[0m\n\u001b[0m\u001b[1;32m     16\u001b[0m \u001b[0;34m\u001b[0m\u001b[0m\n\u001b[1;32m     17\u001b[0m     \u001b[0;31m# Verificar si la elección del usuario está en la lista de sabores.\u001b[0m\u001b[0;34m\u001b[0m\u001b[0;34m\u001b[0m\u001b[0m\n",
            "\u001b[0;32m/usr/local/lib/python3.10/dist-packages/ipykernel/kernelbase.py\u001b[0m in \u001b[0;36mraw_input\u001b[0;34m(self, prompt)\u001b[0m\n\u001b[1;32m    849\u001b[0m                 \u001b[0;34m\"raw_input was called, but this frontend does not support input requests.\"\u001b[0m\u001b[0;34m\u001b[0m\u001b[0;34m\u001b[0m\u001b[0m\n\u001b[1;32m    850\u001b[0m             )\n\u001b[0;32m--> 851\u001b[0;31m         return self._input_request(str(prompt),\n\u001b[0m\u001b[1;32m    852\u001b[0m             \u001b[0mself\u001b[0m\u001b[0;34m.\u001b[0m\u001b[0m_parent_ident\u001b[0m\u001b[0;34m,\u001b[0m\u001b[0;34m\u001b[0m\u001b[0;34m\u001b[0m\u001b[0m\n\u001b[1;32m    853\u001b[0m             \u001b[0mself\u001b[0m\u001b[0;34m.\u001b[0m\u001b[0m_parent_header\u001b[0m\u001b[0;34m,\u001b[0m\u001b[0;34m\u001b[0m\u001b[0;34m\u001b[0m\u001b[0m\n",
            "\u001b[0;32m/usr/local/lib/python3.10/dist-packages/ipykernel/kernelbase.py\u001b[0m in \u001b[0;36m_input_request\u001b[0;34m(self, prompt, ident, parent, password)\u001b[0m\n\u001b[1;32m    893\u001b[0m             \u001b[0;32mexcept\u001b[0m \u001b[0mKeyboardInterrupt\u001b[0m\u001b[0;34m:\u001b[0m\u001b[0;34m\u001b[0m\u001b[0;34m\u001b[0m\u001b[0m\n\u001b[1;32m    894\u001b[0m                 \u001b[0;31m# re-raise KeyboardInterrupt, to truncate traceback\u001b[0m\u001b[0;34m\u001b[0m\u001b[0;34m\u001b[0m\u001b[0m\n\u001b[0;32m--> 895\u001b[0;31m                 \u001b[0;32mraise\u001b[0m \u001b[0mKeyboardInterrupt\u001b[0m\u001b[0;34m(\u001b[0m\u001b[0;34m\"Interrupted by user\"\u001b[0m\u001b[0;34m)\u001b[0m \u001b[0;32mfrom\u001b[0m \u001b[0;32mNone\u001b[0m\u001b[0;34m\u001b[0m\u001b[0;34m\u001b[0m\u001b[0m\n\u001b[0m\u001b[1;32m    896\u001b[0m             \u001b[0;32mexcept\u001b[0m \u001b[0mException\u001b[0m \u001b[0;32mas\u001b[0m \u001b[0me\u001b[0m\u001b[0;34m:\u001b[0m\u001b[0;34m\u001b[0m\u001b[0;34m\u001b[0m\u001b[0m\n\u001b[1;32m    897\u001b[0m                 \u001b[0mself\u001b[0m\u001b[0;34m.\u001b[0m\u001b[0mlog\u001b[0m\u001b[0;34m.\u001b[0m\u001b[0mwarning\u001b[0m\u001b[0;34m(\u001b[0m\u001b[0;34m\"Invalid Message:\"\u001b[0m\u001b[0;34m,\u001b[0m \u001b[0mexc_info\u001b[0m\u001b[0;34m=\u001b[0m\u001b[0;32mTrue\u001b[0m\u001b[0;34m)\u001b[0m\u001b[0;34m\u001b[0m\u001b[0;34m\u001b[0m\u001b[0m\n",
            "\u001b[0;31mKeyboardInterrupt\u001b[0m: Interrupted by user"
          ]
        }
      ]
    },
    {
      "cell_type": "markdown",
      "source": [
        "# EJEMPLO 10 MATRIZ"
      ],
      "metadata": {
        "id": "Gbd1_S10sNOp"
      }
    },
    {
      "cell_type": "code",
      "source": [
        "# Función para multiplicar dos matrices \"a\" y \"b\".\n",
        "def matrix_mul(a, b):\n",
        "    # Utiliza comprensiones de listas anidadas para realizar la multiplicación.\n",
        "    # \"zip(*b)\" transpone la matriz \"b\" para que sea más fácil multiplicarla por \"a\".\n",
        "    return [[sum(i * j for i, j in zip(row_a, col_b)) for col_b in zip(*b)] for row_a in a]\n",
        "\n",
        "# Definir las matrices \"a\" y \"b\".\n",
        "a = [[1, 2], [3, 4]]\n",
        "b = [[5, 1], [2, 1]]\n",
        "\n",
        "# Llamar a la función \"matrix_mul\" para multiplicar las matrices \"a\" y \"b\".\n",
        "c = matrix_mul(a, b)\n",
        "\n",
        "# Imprimir la matriz resultante \"c\".\n",
        "print(c)  # Imprime la matriz resultante de la multiplicación de \"a\" y \"b\".\n"
      ],
      "metadata": {
        "colab": {
          "base_uri": "https://localhost:8080/"
        },
        "id": "LP6eBF1XsM6c",
        "outputId": "5cc0986f-8ac5-4dbf-e52b-45a66f3fc104"
      },
      "execution_count": 19,
      "outputs": [
        {
          "output_type": "stream",
          "name": "stdout",
          "text": [
            "[[9, 3], [23, 7]]\n"
          ]
        }
      ]
    },
    {
      "cell_type": "markdown",
      "source": [
        "#EJEMPLO 11 FACTORIAL"
      ],
      "metadata": {
        "id": "6MvVNahoFCJV"
      }
    },
    {
      "cell_type": "code",
      "source": [
        "# Función para calcular el factorial de un número \"n\".\n",
        "def factorial(n):\n",
        "    # Si \"n\" es 0 o 1, el factorial es 1.\n",
        "    if n in (0, 1):\n",
        "        return 1\n",
        "\n",
        "    # Inicializar \"result\" con el valor de \"n\".\n",
        "    result = n\n",
        "\n",
        "    # Calcular el factorial utilizando un bucle for.\n",
        "    for k in range(2, n):\n",
        "        result *= k\n",
        "\n",
        "    # Devolver el resultado del factorial.\n",
        "    return result\n",
        "\n",
        "# Calcular el factorial de 5 llamando a la función \"factorial\".\n",
        "f5 = factorial(5)  # f5 = 120\n",
        "\n",
        "# Imprimir el resultado del factorial de 5.\n",
        "print(f5)  # Imprime el resultado, que es 120.\n"
      ],
      "metadata": {
        "colab": {
          "base_uri": "https://localhost:8080/"
        },
        "id": "B4NAHRJltk0h",
        "outputId": "75ce95db-8a17-46e1-9094-c250c21194ee"
      },
      "execution_count": 20,
      "outputs": [
        {
          "output_type": "stream",
          "name": "stdout",
          "text": [
            "120\n"
          ]
        }
      ]
    }
  ]
}