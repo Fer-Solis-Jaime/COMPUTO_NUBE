{
  "nbformat": 4,
  "nbformat_minor": 0,
  "metadata": {
    "colab": {
      "provenance": [],
      "authorship_tag": "ABX9TyNe1crIqE8iwW388UD+ca0V",
      "include_colab_link": true
    },
    "kernelspec": {
      "name": "python3",
      "display_name": "Python 3"
    },
    "language_info": {
      "name": "python"
    }
  },
  "cells": [
    {
      "cell_type": "markdown",
      "metadata": {
        "id": "view-in-github",
        "colab_type": "text"
      },
      "source": [
        "<a href=\"https://colab.research.google.com/github/Fer-Solis-Jaime/COMPUTO_NUBE/blob/main/Solis_Jaime_Fernando_Emmanuel_EXAMEN_U1.ipynb\" target=\"_parent\"><img src=\"https://colab.research.google.com/assets/colab-badge.svg\" alt=\"Open In Colab\"/></a>"
      ]
    },
    {
      "cell_type": "code",
      "execution_count": null,
      "metadata": {
        "colab": {
          "base_uri": "https://localhost:8080/"
        },
        "id": "J9v5pKvHSadT",
        "outputId": "97cba059-228a-4b11-e5e5-2a705199625b"
      },
      "outputs": [
        {
          "output_type": "stream",
          "name": "stdout",
          "text": [
            "Ingresa un numero entero: 7\n",
            "7 Es un numero primo.\n"
          ]
        }
      ],
      "source": [
        "def es_primo(numero):\n",
        "    if numero <= 1:\n",
        "        return False\n",
        "    elif numero <= 3:\n",
        "        return True\n",
        "    elif numero % 2 == 0 or numero % 3 == 0:\n",
        "        return False\n",
        "    i = 5\n",
        "    while i * i <= numero:\n",
        "        if numero % i == 0 or numero % (i + 2) == 0:\n",
        "            return False\n",
        "        i += 6\n",
        "    return True\n",
        "\n",
        "if __name__ == \"__main__\":\n",
        "    try:\n",
        "        num_usuario = int(input(\"Ingresa un numero entero: \"))\n",
        "        if is_prime(num_usuario):\n",
        "            print(f\"{num_usuario} Es un numero primo.\")\n",
        "        else:\n",
        "            print(f\"{num_usuario} No es un numero primo.\")\n",
        "    except ValueError:\n",
        "        print(\"Valor invalido. Favor de ingresar un numero entero.\")\n"
      ]
    },
    {
      "cell_type": "code",
      "source": [
        "def es_primo(numero):\n",
        "    if numero <= 1:\n",
        "        return False\n",
        "    elif numero <= 3:\n",
        "        return True\n",
        "    elif numero % 2 == 0 or numero % 3 == 0:\n",
        "        return False\n",
        "    i = 5\n",
        "    while i * i <= numero:\n",
        "        if numero % i == 0 or numero % (i + 2) == 0:\n",
        "            return False\n",
        "        i += 6\n",
        "    return True\n",
        "\n",
        "def siguiente_primo(n):\n",
        "    if n <= 1:\n",
        "        n = 2\n",
        "    else:\n",
        "        n += 1\n",
        "\n",
        "    while True:\n",
        "        if es_primo(n):\n",
        "            return n\n",
        "        n += 1\n",
        "\n",
        "if __name__ == \"__main__\":\n",
        "    try:\n",
        "        num_usuario = int(input(\"Ingresa un numero entero: \"))\n",
        "        siguiente_num_primo = siguiente_primo(num_usuario)\n",
        "        print(f\"El siguiente numero largo es: {num_usuario} is {siguiente_num_primo}.\")\n",
        "    except ValueError:\n",
        "        print(\"Valor invalido. Favor de ingresar un numero entero.\")\n"
      ],
      "metadata": {
        "colab": {
          "base_uri": "https://localhost:8080/"
        },
        "id": "KA5NBqzKTWpg",
        "outputId": "abc757a4-5f32-4784-c2cb-2831102b1049"
      },
      "execution_count": null,
      "outputs": [
        {
          "output_type": "stream",
          "name": "stdout",
          "text": [
            "11 Es un numero primo.\n",
            "Ingresa un numero entero: 7\n",
            "El siguiente numero largo es: 7 is 11.\n"
          ]
        }
      ]
    },
    {
      "cell_type": "code",
      "source": [
        "def es_primo(numero):\n",
        "    if numero <= 1:\n",
        "        return False\n",
        "    elif numero <= 3:\n",
        "        return True\n",
        "    elif numero % 2 == 0 or numero % 3 == 0:\n",
        "        return False\n",
        "    i = 5\n",
        "    while i * i <= numero:\n",
        "        if numero % i == 0 or numero % (i + 2) == 0:\n",
        "            return False\n",
        "        i += 6\n",
        "    return True\n",
        "\n",
        "def siguiente_primo(n):\n",
        "    if n <= 1:\n",
        "        n = 2\n",
        "    else:\n",
        "        n += 1\n",
        "\n",
        "    while True:\n",
        "        if es_primo(n):\n",
        "            return n\n",
        "        n += 1\n",
        "\n",
        "if __name__ == \"__main__\":\n",
        "    try:\n",
        "        entrada_usuario = int(input(\"Ingrese un número entero: \"))\n",
        "        siguiente_primo_numero = siguiente_primo(entrada_usuario)\n",
        "\n",
        "        if es_primo(siguiente_primo_numero):\n",
        "            print(f\"El siguiente número primo mayor que {entrada_usuario} es {siguiente_primo_numero} y es primo.\")\n",
        "        else:\n",
        "            print(f\"El siguiente número mayor que {entrada_usuario} es {siguiente_primo_numero}, pero no es primo.\")\n",
        "    except ValueError:\n",
        "        print(\"Entrada inválida. Por favor ingrese un número entero.\")\n"
      ],
      "metadata": {
        "colab": {
          "base_uri": "https://localhost:8080/"
        },
        "id": "CtKhEVdDVZeh",
        "outputId": "1305eca8-46e8-4025-ff5f-a28ef8ff4736"
      },
      "execution_count": null,
      "outputs": [
        {
          "output_type": "stream",
          "name": "stdout",
          "text": [
            "Ingrese un número entero: 7\n",
            "El siguiente número primo mayor que 7 es 11 y es primo.\n"
          ]
        }
      ]
    },
    {
      "cell_type": "code",
      "source": [
        "def mediana_de_tres(num1, num2, num3):\n",
        "    # Ordena los números\n",
        "    numeros_ordenados = [num1, num2, num3]\n",
        "    numeros_ordenados.sort()\n",
        "\n",
        "    # La mediana es el número del medio en la lista ordenada\n",
        "    return numeros_ordenados[1]\n",
        "\n",
        "if __name__ == \"__main__\":\n",
        "    try:\n",
        "        num1 = float(input(\"Ingresa el primer número: \"))\n",
        "        num2 = float(input(\"Ingresa el segundo número: \"))\n",
        "        num3 = float(input(\"Ingresa el tercer número: \"))\n",
        "\n",
        "        mediana = mediana_de_tres(num1, num2, num3)\n",
        "        print(f\"La mediana de {num1}, {num2} y {num3} es {mediana}.\")\n",
        "    except ValueError:\n",
        "        print(\"Entrada no válida. Por favor ingresa valores numéricos.\")\n"
      ],
      "metadata": {
        "colab": {
          "base_uri": "https://localhost:8080/"
        },
        "id": "Z8-2zPjUVlTn",
        "outputId": "8ddade50-3a91-41f7-d830-80c0d68bd383"
      },
      "execution_count": null,
      "outputs": [
        {
          "output_type": "stream",
          "name": "stdout",
          "text": [
            "Ingresa el primer número: 5\n",
            "Ingresa el segundo número: 9\n",
            "Ingresa el tercer número: 10\n",
            "La mediana de 5.0, 9.0 y 10.0 es 9.0.\n"
          ]
        }
      ]
    },
    {
      "cell_type": "code",
      "source": [
        "import random\n",
        "\n",
        "def generar_contrasena_aleatoria():\n",
        "    longitud_contrasena = random.randint(7, 10)\n",
        "    contrasena = ''.join(chr(random.randint(33, 126)) for _ in range(longitud_contrasena))\n",
        "    return contrasena\n",
        "\n",
        "if __name__ == \"__main__\":\n",
        "    contrasena_aleatoria = generar_contrasena_aleatoria()\n",
        "    print(f\"Contraseña generada de manera aleatoria es: {contrasena_aleatoria}\")\n"
      ],
      "metadata": {
        "colab": {
          "base_uri": "https://localhost:8080/"
        },
        "id": "4e1ErkA_WGyu",
        "outputId": "07c7fcd6-61eb-4982-a00d-58a63e84e244"
      },
      "execution_count": null,
      "outputs": [
        {
          "output_type": "stream",
          "name": "stdout",
          "text": [
            "Contraseña generada al azar: ^[/jRF.\n"
          ]
        }
      ]
    },
    {
      "cell_type": "code",
      "source": [
        "def calcular_hipotenusa(lado1, lado2):\n",
        "    hipotenusa = (lado1 ** 2 + lado2 ** 2) ** 0.5\n",
        "    return hipotenusa\n",
        "\n",
        "if __name__ == \"__main__\":\n",
        "    try:\n",
        "        lado1 = float(input(\"Ingresa la longitud del primer lado más corto: \"))\n",
        "        lado2 = float(input(\"Ingresa la longitud del segundo lado más corto: \"))\n",
        "\n",
        "        hipotenusa = calcular_hipotenusa(lado1, lado2)\n",
        "        print(f\"La longitud de la hipotenusa es {hipotenusa:.2f}\")\n",
        "    except ValueError:\n",
        "        print(\"Entrada inválida. Por favor, ingresa valores numéricos.\")\n"
      ],
      "metadata": {
        "colab": {
          "base_uri": "https://localhost:8080/"
        },
        "id": "-RRym0BxWKcJ",
        "outputId": "6810810b-36de-493d-a93e-e30c4a8f8b46"
      },
      "execution_count": null,
      "outputs": [
        {
          "output_type": "stream",
          "name": "stdout",
          "text": [
            "Ingresa la longitud del primer lado más corto: 4\n",
            "Ingresa la longitud del segundo lado más corto: 5\n",
            "La longitud de la hipotenusa es 6.40\n"
          ]
        }
      ]
    }
  ]
}