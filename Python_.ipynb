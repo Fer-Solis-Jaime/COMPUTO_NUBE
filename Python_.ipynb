{
  "nbformat": 4,
  "nbformat_minor": 0,
  "metadata": {
    "colab": {
      "provenance": [],
      "authorship_tag": "ABX9TyN+P+UflG51Wn0aGECpqaX7",
      "include_colab_link": true
    },
    "kernelspec": {
      "name": "python3",
      "display_name": "Python 3"
    },
    "language_info": {
      "name": "python"
    }
  },
  "cells": [
    {
      "cell_type": "markdown",
      "metadata": {
        "id": "view-in-github",
        "colab_type": "text"
      },
      "source": [
        "<a href=\"https://colab.research.google.com/github/Fer-Solis-Jaime/COMPUTO_NUBE/blob/main/Python_.ipynb\" target=\"_parent\"><img src=\"https://colab.research.google.com/assets/colab-badge.svg\" alt=\"Open In Colab\"/></a>"
      ]
    },
    {
      "cell_type": "markdown",
      "source": [
        "# SOLIS_JAIME_FERNANDO_EMMANUEL\n",
        "## COMPUTO EN LA NUBE\n",
        "## IIA-7"
      ],
      "metadata": {
        "id": "TOL2UL8IBkeT"
      }
    },
    {
      "cell_type": "markdown",
      "source": [
        "# Ejercico 1 Objetos y clases"
      ],
      "metadata": {
        "id": "k7e_Iy8x__qR"
      }
    },
    {
      "cell_type": "code",
      "source": [
        "# bike.py\n",
        "# let's define the class Bike\n",
        "class Bike:\n",
        "    def __init__(self, colour, frame_material):\n",
        "        self.colour = colour\n",
        "        self.frame_material = frame_material\n",
        "    def brake(self):\n",
        "        print(\"Braking!\")\n",
        "# let's create a couple of instances\n",
        "red_bike = Bike('Red', 'Carbon fiber')\n",
        "blue_bike = Bike('Blue', 'Steel')\n",
        "# let's inspect the objects we have, instances of the Bike class.\n",
        "print(red_bike.colour) # prints: Red\n",
        "print(red_bike.frame_material) # prints: Carbon fiber\n",
        "print(blue_bike.colour) # prints: Blue\n",
        "print(blue_bike.frame_material) # prints: Steel\n",
        "# let's brake!\n",
        "red_bike.brake() # prints: Braking!"
      ],
      "metadata": {
        "colab": {
          "base_uri": "https://localhost:8080/"
        },
        "id": "vqUYyY6UALFt",
        "outputId": "dc41f1c2-ee72-4e23-e527-edab926f587f"
      },
      "execution_count": null,
      "outputs": [
        {
          "output_type": "stream",
          "name": "stdout",
          "text": [
            "Red\n",
            "Carbon fiber\n",
            "Blue\n",
            "Steel\n",
            "Braking!\n"
          ]
        }
      ]
    },
    {
      "cell_type": "markdown",
      "source": [
        "# EJERCICIO 2 MUTABLE O INMUTABLE"
      ],
      "metadata": {
        "id": "hd7TCj4qQEU8"
      }
    },
    {
      "cell_type": "code",
      "source": [
        "age = 42\n",
        "print(age)\n",
        "age = 43\n",
        "print(age)"
      ],
      "metadata": {
        "colab": {
          "base_uri": "https://localhost:8080/"
        },
        "id": "HHDo9gqOQWlO",
        "outputId": "2a12fce3-d01f-4e58-fc4b-1c5049917a37"
      },
      "execution_count": null,
      "outputs": [
        {
          "output_type": "stream",
          "name": "stdout",
          "text": [
            "42\n",
            "43\n"
          ]
        }
      ]
    },
    {
      "cell_type": "code",
      "source": [
        "age = 42\n",
        "print(id(age))\n",
        "age = 43\n",
        "print(id(age))"
      ],
      "metadata": {
        "colab": {
          "base_uri": "https://localhost:8080/"
        },
        "id": "QixQOTRtRWbO",
        "outputId": "3b3b9e48-5730-4762-f9d1-a9f97507e4f2"
      },
      "execution_count": null,
      "outputs": [
        {
          "output_type": "stream",
          "name": "stdout",
          "text": [
            "140680071906832\n",
            "140680071906864\n"
          ]
        }
      ]
    },
    {
      "cell_type": "code",
      "source": [
        "class Person:\n",
        "    def __init__(self, age):\n",
        "      self.age = age\n",
        "fab = Person(age = 42)\n",
        "print(fab.age)\n",
        "print(id(age))\n",
        "print(id(fab.age))\n",
        "fab.age = 25\n",
        "print(id(fab))\n",
        "print(id(fab.age))\n"
      ],
      "metadata": {
        "colab": {
          "base_uri": "https://localhost:8080/"
        },
        "id": "30YPS03SS_l0",
        "outputId": "2250dcef-a595-4216-a943-bde255394746"
      },
      "execution_count": null,
      "outputs": [
        {
          "output_type": "stream",
          "name": "stdout",
          "text": [
            "42\n",
            "140680071906864\n",
            "140680071906832\n",
            "140679777971568\n",
            "140680071906288\n"
          ]
        }
      ]
    },
    {
      "cell_type": "markdown",
      "source": [
        "# EJEMOPLO 3 Numeros complejos"
      ],
      "metadata": {
        "id": "4N8Rrd1Gaxut"
      }
    },
    {
      "cell_type": "code",
      "source": [
        "c = 3.14 + 2.73j\n",
        "c = complex(3.14, 2.73)\n",
        "print(c.real)\n",
        "print(c.imag)\n",
        "print(c.conjugate())\n",
        "print(c * 2)\n",
        "print(c ** 2)\n",
        "d = 1 + 1j\n",
        "print(c - d)\n"
      ],
      "metadata": {
        "colab": {
          "base_uri": "https://localhost:8080/"
        },
        "id": "m7Dlg7hgYd4j",
        "outputId": "740c6c42-70c9-4de2-df7d-a7e84151adee"
      },
      "execution_count": null,
      "outputs": [
        {
          "output_type": "stream",
          "name": "stdout",
          "text": [
            "3.14\n",
            "2.73\n",
            "(3.14-2.73j)\n",
            "(6.28+5.46j)\n",
            "(2.4067000000000007+17.1444j)\n",
            "(2.14+1.73j)\n"
          ]
        }
      ]
    },
    {
      "cell_type": "markdown",
      "source": [
        "Fracciones y decimales"
      ],
      "metadata": {
        "id": "zSMkUYnbatsY"
      }
    },
    {
      "cell_type": "code",
      "source": [
        "from fractions import Fraction\n",
        "print(Fraction (10, 6))\n",
        "print(Fraction(1, 3) + Fraction (2, 3))\n",
        "f = Fraction(10, 6)\n",
        "print(f.numerator)\n",
        "print(f.denominator)\n",
        "print(f.as_integer_ratio())"
      ],
      "metadata": {
        "colab": {
          "base_uri": "https://localhost:8080/"
        },
        "id": "kEw_6cUfZYAI",
        "outputId": "9d41c24f-de79-48fb-8a8a-00ab44ec0083"
      },
      "execution_count": null,
      "outputs": [
        {
          "output_type": "stream",
          "name": "stdout",
          "text": [
            "5/3\n",
            "1\n",
            "5\n",
            "3\n",
            "(5, 3)\n"
          ]
        }
      ]
    },
    {
      "cell_type": "code",
      "source": [
        "from decimal import Decimal as D\n",
        "print(D(3.14))\n",
        "print(D('3.14'))\n",
        "print(D('0.1') * D(3) - D('0.3'))\n",
        "print(D('1.4').as_integer_ratio())"
      ],
      "metadata": {
        "colab": {
          "base_uri": "https://localhost:8080/"
        },
        "id": "vNJxRH-tbDSs",
        "outputId": "67f3fdc9-99e1-4545-b4f1-5aa539c9006e"
      },
      "execution_count": null,
      "outputs": [
        {
          "output_type": "stream",
          "name": "stdout",
          "text": [
            "3.140000000000000124344978758017532527446746826171875\n",
            "3.14\n",
            "0.0\n",
            "(7, 5)\n"
          ]
        }
      ]
    },
    {
      "cell_type": "markdown",
      "source": [
        "#EJEMPLO 4  String sy bytes"
      ],
      "metadata": {
        "id": "QP7l-crPg8Hg"
      }
    },
    {
      "cell_type": "code",
      "source": [
        "# 4 ways to make a string\n",
        "str1 = 'This is a string. We built it with single quotes.'\n",
        "str2 = \"This is also a string, but built with double quotes.\"\n",
        "str3 = '''This is built using triple quotes,\n",
        "... so it can span multiple lines.'''\n",
        "str4 = \"\"\"This too\n",
        "... is a multiline one\n",
        "... built with triple double-quotes.\"\"\"\n",
        "str4 #A\n",
        "'This too\\nis a multiline one\\nbuilt with triple double-quotes.'\n",
        "print(str1)\n",
        "print(str2)\n",
        "print(str3)\n",
        "print(str4) #B\n",
        "#This too\n",
        "#is a multiline one\n",
        "#built with triple double-quotes.\n",
        "print(len(str1))\n"
      ],
      "metadata": {
        "colab": {
          "base_uri": "https://localhost:8080/"
        },
        "id": "xcRUByvjg_LV",
        "outputId": "0b95a9e0-cd49-4964-e3eb-dd52e106a689"
      },
      "execution_count": null,
      "outputs": [
        {
          "output_type": "stream",
          "name": "stdout",
          "text": [
            "This is a string. We built it with single quotes.\n",
            "This is also a string, but built with double quotes.\n",
            "This is built using triple quotes,\n",
            "... so it can span multiple lines.\n",
            "This too\n",
            "... is a multiline one\n",
            "... built with triple double-quotes.\n",
            "49\n"
          ]
        }
      ]
    },
    {
      "cell_type": "code",
      "source": [
        "s = 'Hello There'\n",
        "print(s.removeprefix('Hell'))\n",
        "print(s.removesuffix('here'))\n",
        "print(s.removeprefix('Hola'))"
      ],
      "metadata": {
        "colab": {
          "base_uri": "https://localhost:8080/"
        },
        "id": "wToIWvigpTMg",
        "outputId": "33001360-f154-4ae9-a514-7a6d786f2ea6"
      },
      "execution_count": null,
      "outputs": [
        {
          "output_type": "stream",
          "name": "stdout",
          "text": [
            "o There\n",
            "Hello T\n",
            "Hello There\n"
          ]
        }
      ]
    },
    {
      "cell_type": "markdown",
      "source": [
        "#EJEMPLO 5 Encoding y decoding"
      ],
      "metadata": {
        "id": "Z1p7yvO5HvKG"
      }
    },
    {
      "cell_type": "code",
      "source": [
        "s = \"This is üŋíc0de\"\n",
        "print(type(s))\n",
        "encoded_s = s.encode('utf-8')\n",
        "print(encoded_s)\n",
        "type(encoded_s)\n",
        "print(encoded_s.decode('utf-8'))\n"
      ],
      "metadata": {
        "colab": {
          "base_uri": "https://localhost:8080/"
        },
        "id": "Tq-XKmZFH6sH",
        "outputId": "24f07147-6e63-47f6-f2fb-a389c48860bf"
      },
      "execution_count": 6,
      "outputs": [
        {
          "output_type": "stream",
          "name": "stdout",
          "text": [
            "<class 'str'>\n",
            "b'This is \\xc3\\xbc\\xc5\\x8b\\xc3\\xadc0de'\n",
            "This is üŋíc0de\n"
          ]
        }
      ]
    },
    {
      "cell_type": "markdown",
      "source": [
        "#EJEMPLO 6 String foarming"
      ],
      "metadata": {
        "id": "-oUECNZEJbpc"
      }
    },
    {
      "cell_type": "code",
      "source": [
        "nombre = 'Fernando'\n",
        "edad = 22\n",
        "f\"Hola! Mi nombre es ¨{nombre} y mi edad es {edad}\"\n",
        "from math import pi\n",
        "f\"No discutas con {pi}, es irracional\""
      ],
      "metadata": {
        "colab": {
          "base_uri": "https://localhost:8080/",
          "height": 36
        },
        "id": "zgjeyrKrJg0J",
        "outputId": "e22a37e1-1754-4236-d48c-838d3a766f50"
      },
      "execution_count": 8,
      "outputs": [
        {
          "output_type": "execute_result",
          "data": {
            "text/plain": [
              "'No argumentos en 3.141592653589793, es irracional'"
            ],
            "application/vnd.google.colaboratory.intrinsic+json": {
              "type": "string"
            }
          },
          "metadata": {},
          "execution_count": 8
        }
      ]
    },
    {
      "cell_type": "code",
      "source": [
        "usuario = 'Administrador1'\n",
        "password = 'MUY-SECRETA'\n",
        "f\"Log in with: {usuario} y {password}\""
      ],
      "metadata": {
        "colab": {
          "base_uri": "https://localhost:8080/",
          "height": 36
        },
        "id": "_vXgQa9vLaba",
        "outputId": "538dd9aa-1723-4e4b-d6d8-dac2f166ebf6"
      },
      "execution_count": 9,
      "outputs": [
        {
          "output_type": "execute_result",
          "data": {
            "text/plain": [
              "'Log in with: Administrador1 y MUY-SECRETA'"
            ],
            "application/vnd.google.colaboratory.intrinsic+json": {
              "type": "string"
            }
          },
          "metadata": {},
          "execution_count": 9
        }
      ]
    },
    {
      "cell_type": "markdown",
      "source": [
        "#EJEMPLO 7 LISTAS"
      ],
      "metadata": {
        "id": "ywtpqDzdNFTp"
      }
    },
    {
      "cell_type": "code",
      "source": [
        "print([])\n",
        "print(list())\n",
        "print([1, 2, 3])\n",
        "print([x + 5 for x in [2, 3, 4]])\n",
        "print(list((1, 3, 5, 7, 9)))\n",
        "print(list('HOLA'))"
      ],
      "metadata": {
        "colab": {
          "base_uri": "https://localhost:8080/"
        },
        "id": "324ZBs6nNIls",
        "outputId": "137b8e1e-d041-4289-a479-51c90e772919"
      },
      "execution_count": 10,
      "outputs": [
        {
          "output_type": "stream",
          "name": "stdout",
          "text": [
            "[]\n",
            "[]\n",
            "[1, 2, 3]\n",
            "[7, 8, 9]\n",
            "[1, 3, 5, 7, 9]\n",
            "['H', 'O', 'L', 'A']\n"
          ]
        }
      ]
    },
    {
      "cell_type": "markdown",
      "source": [
        "# EJEMPLO ChainMap"
      ],
      "metadata": {
        "id": "SKhsNsloRwlK"
      }
    },
    {
      "cell_type": "code",
      "source": [
        "from collections import ChainMap\n",
        "default_connection = {'host': 'localhost', 'port': 4567}\n",
        "connection = {'port': 5678}\n",
        "conn = ChainMap(connection, default_connection) # map creation\n",
        "print(conn['port']) # port is found in the first dictionary\n",
        "\n",
        "print(conn['host']) # host is fetched from the second dictionary\n",
        "\n",
        "print(conn.maps) # we can see the mapping objects\n",
        "\n",
        "conn['host'] = 'packtpub.com' # let's add host\n",
        "print(conn.maps)\n",
        "\n",
        "del conn['port'] # let's remove the port information\n",
        "print(conn.maps)\n",
        "\n",
        "print(conn['port']) # now port is fetched from the second dictionary\n",
        "\n",
        "print(dict(conn)) # easy to merge and convert to regular dictionary\n"
      ],
      "metadata": {
        "colab": {
          "base_uri": "https://localhost:8080/"
        },
        "id": "2HaVPLX2QvA0",
        "outputId": "93e8e138-0fa2-490b-cc5b-e7647c89aa9f"
      },
      "execution_count": 12,
      "outputs": [
        {
          "output_type": "stream",
          "name": "stdout",
          "text": [
            "5678\n",
            "localhost\n",
            "[{'port': 5678}, {'host': 'localhost', 'port': 4567}]\n",
            "[{'port': 5678, 'host': 'packtpub.com'}, {'host': 'localhost', 'port': 4567}]\n",
            "[{'host': 'packtpub.com'}, {'host': 'localhost', 'port': 4567}]\n",
            "4567\n",
            "{'host': 'packtpub.com', 'port': 4567}\n"
          ]
        }
      ]
    },
    {
      "cell_type": "markdown",
      "source": [
        "#EJEMPLO Enums"
      ],
      "metadata": {
        "id": "xUtipSu0R3XS"
      }
    },
    {
      "cell_type": "code",
      "source": [
        "# example customer objects\n",
        "customer1 = {'id': 'abc123', 'full_name': 'Master Yoda'}\n",
        "customer2 = {'id': 'def456', 'full_name': 'Obi-Wan Kenobi'}\n",
        "customer3 = {'id': 'ghi789', 'full_name': 'Anakin Skywalker'}\n",
        "# collect them in a tuple\n",
        "customers = (customer1, customer2, customer3)\n",
        "# or collect them in a list\n",
        "customers = [customer1, customer2, customer3]\n",
        "# or maybe within a dictionary, they have a unique id after all\n",
        "customers = {\n",
        "  'abc123': customer1,\n",
        "  'def456': customer2,\n",
        "  'ghi789': customer3,\n",
        "}"
      ],
      "metadata": {
        "id": "1kmxpdY3R8wq"
      },
      "execution_count": 13,
      "outputs": []
    },
    {
      "cell_type": "markdown",
      "source": [
        "#EJEMPLO INCREMENTO DE INTERESES"
      ],
      "metadata": {
        "id": "uU97RmJeTBJZ"
      }
    },
    {
      "cell_type": "code",
      "source": [
        "# taxes.py\n",
        "income = scan()\n",
        "if income < 10000:\n",
        "  tax_coefficient = 0.0 #1\n",
        "elif income < 30000:\n",
        "  tax_coefficient = 0.2 #2\n",
        "elif income < 100000:\n",
        "  tax_coefficient = 0.35 #3\n",
        "else:\n",
        "  tax_coefficient = 0.45 #4\n",
        "print(f'You will pay: ${income * tax_coefficient} in taxes')"
      ],
      "metadata": {
        "colab": {
          "base_uri": "https://localhost:8080/"
        },
        "id": "TPfjIkeYS9O0",
        "outputId": "ea56187f-e2f2-4539-f4bb-8be67ab879db"
      },
      "execution_count": 14,
      "outputs": [
        {
          "output_type": "stream",
          "name": "stdout",
          "text": [
            "You will pay: $3000.0 in taxes\n"
          ]
        }
      ]
    }
  ]
}