{
  "nbformat": 4,
  "nbformat_minor": 0,
  "metadata": {
    "colab": {
      "provenance": [],
      "authorship_tag": "ABX9TyP21DSoUbTxiaYaeg3i9jo5",
      "include_colab_link": true
    },
    "kernelspec": {
      "name": "python3",
      "display_name": "Python 3"
    },
    "language_info": {
      "name": "python"
    }
  },
  "cells": [
    {
      "cell_type": "markdown",
      "metadata": {
        "id": "view-in-github",
        "colab_type": "text"
      },
      "source": [
        "<a href=\"https://colab.research.google.com/github/Fer-Solis-Jaime/COMPUTO_NUBE/blob/main/Ejercicios__1_3_PYTHON_MATERIA_COMPUTO_EN_LA_NUBE_.ipynb\" target=\"_parent\"><img src=\"https://colab.research.google.com/assets/colab-badge.svg\" alt=\"Open In Colab\"/></a>"
      ]
    },
    {
      "cell_type": "markdown",
      "source": [
        "# SOLIS_JAIME_FERNANDO_EMMANUEL\n",
        "## COMPUTO EN LA NUBE\n",
        "## IIA-7"
      ],
      "metadata": {
        "id": "_5s14CL2kTtl"
      }
    },
    {
      "cell_type": "markdown",
      "source": [
        "# EJERCICIO 12 ABRIR DOCUMENTOS"
      ],
      "metadata": {
        "id": "NtEO6JcRIT3R"
      }
    },
    {
      "cell_type": "code",
      "execution_count": null,
      "metadata": {
        "id": "xO69GXBjHEiB"
      },
      "outputs": [],
      "source": [
        "# Abre el archivo 'fear.txt' en modo lectura de texto ('rt').\n",
        "fh = open('fear.txt', 'rt')  # 'r': lectura, 't': texto\n",
        "\n",
        "# Itera a través de cada línea del archivo.\n",
        "for line in fh.readlines():\n",
        "    # Elimina los espacios en blanco al principio y al final de la línea y luego imprime la línea.\n",
        "    print(line.strip())\n",
        "\n",
        "# Cierra el archivo después de haber terminado de leerlo.\n",
        "fh.close()\n"
      ]
    },
    {
      "cell_type": "markdown",
      "source": [
        "\""
      ],
      "metadata": {
        "id": "eV4CmSDSJi_j"
      }
    },
    {
      "cell_type": "markdown",
      "source": [
        "#EJERCICIO 13 LEER Y ESCRIBIE EN UN DOCUMENTO"
      ],
      "metadata": {
        "id": "Iedy3IlaJ_A_"
      }
    },
    {
      "cell_type": "code",
      "source": [
        "# Abre el archivo 'print_example.txt' en modo escritura ('w') usando un bloque \"with\".\n",
        "# Usar un bloque \"with\" garantiza que el archivo se cierre automáticamente después de su uso.\n",
        "with open('print_example.txt', 'w') as fw:\n",
        "    # Usa la función \"print\" para escribir una línea en el archivo 'fw'.\n",
        "    print('MODIFICACION DEL DOCMUENTO!!!!!', file=fw)\n"
      ],
      "metadata": {
        "id": "beWvIH1MKoSR"
      },
      "execution_count": 12,
      "outputs": []
    },
    {
      "cell_type": "markdown",
      "source": [
        "#EJERCICIO 14 LEER Y ESCRIBIR EN MODO BINARIOS"
      ],
      "metadata": {
        "id": "rbU1xFgQKw9j"
      }
    },
    {
      "cell_type": "code",
      "source": [
        "# Abrir el archivo 'example.bin' en modo escritura binaria ('wb') usando un bloque \"with\".\n",
        "with open('example.bin', 'wb') as fw:\n",
        "    # Escribir datos binarios en el archivo.\n",
        "    fw.write(b'Este es un dato binario...')\n",
        "\n",
        "# Abrir el archivo 'example.bin' en modo lectura binaria ('rb') usando un bloque \"with\".\n",
        "with open('example.bin', 'rb') as f:\n",
        "    # Leer y luego imprimir el contenido del archivo.\n",
        "    print(f.read())  # Imprime: b'This is binary data...'\n"
      ],
      "metadata": {
        "colab": {
          "base_uri": "https://localhost:8080/"
        },
        "id": "3zcMIP4DLK5e",
        "outputId": "615ab4f3-bbf2-4bed-d8c3-ed8080b2c6b8"
      },
      "execution_count": 4,
      "outputs": [
        {
          "output_type": "stream",
          "name": "stdout",
          "text": [
            "b'This is binary data...'\n"
          ]
        }
      ]
    },
    {
      "cell_type": "markdown",
      "source": [
        "# EJERCICIO 15 MANUIPULACION DE ARCHIVOS Y DIRECTORIOS"
      ],
      "metadata": {
        "id": "JKOM4OU5Lf7l"
      }
    },
    {
      "cell_type": "code",
      "source": [
        "# Importar la clase \"Counter\" desde el módulo \"collections\" y la cadena de letras \"ascii_letters\" desde el módulo \"string\".\n",
        "from collections import Counter\n",
        "from string import ascii_letters\n",
        "\n",
        "# Definir una cadena de caracteres que contiene letras mayúsculas, letras minúsculas y un espacio.\n",
        "chars = ascii_letters + ' '\n",
        "\n",
        "# Función para eliminar caracteres no deseados de una cadena.\n",
        "def sanitize(s, chars):\n",
        "    return ''.join(c for c in s if c in chars)\n",
        "\n",
        "# Función para revertir una cadena.\n",
        "def reverse(s):\n",
        "    return s[::-1]\n",
        "\n",
        "# Abrir el archivo 'fear.txt' y leer sus líneas, eliminando los espacios en blanco al final.\n",
        "with open('fear.txt') as stream:\n",
        "    lines = [line.rstrip() for line in stream]\n",
        "\n",
        "# Escribir una versión reflejada del archivo en 'raef.txt'.\n",
        "with open('raef.txt', 'w') as stream:\n",
        "    stream.write('\\n'.join(reverse(line) for line in lines))\n",
        "\n",
        "# Sanitizar las líneas del archivo para eliminar caracteres no deseados.\n",
        "lines = [sanitize(line, chars) for line in lines]\n",
        "\n",
        "# Concatenar todas las líneas en una única cadena.\n",
        "whole = ' '.join(lines)\n",
        "\n",
        "# Realizar operaciones de recuento de palabras en la cadena (ignorando mayúsculas y minúsculas).\n",
        "cnt = Counter(whole.lower().split())\n",
        "\n",
        "# Imprimir las N palabras más comunes (en este caso, las 3 más comunes).\n",
        "print(cnt.most_common(3))\n"
      ],
      "metadata": {
        "colab": {
          "base_uri": "https://localhost:8080/",
          "height": 245
        },
        "id": "_ydwu2QLMkeS",
        "outputId": "7b4464fc-fe6a-4c77-9a0d-044153209256"
      },
      "execution_count": 5,
      "outputs": [
        {
          "output_type": "error",
          "ename": "FileNotFoundError",
          "evalue": "ignored",
          "traceback": [
            "\u001b[0;31m---------------------------------------------------------------------------\u001b[0m",
            "\u001b[0;31mFileNotFoundError\u001b[0m                         Traceback (most recent call last)",
            "\u001b[0;32m<ipython-input-5-1f121cbe9e83>\u001b[0m in \u001b[0;36m<cell line: 10>\u001b[0;34m()\u001b[0m\n\u001b[1;32m      8\u001b[0m \u001b[0;32mdef\u001b[0m \u001b[0mreverse\u001b[0m\u001b[0;34m(\u001b[0m\u001b[0ms\u001b[0m\u001b[0;34m)\u001b[0m\u001b[0;34m:\u001b[0m\u001b[0;34m\u001b[0m\u001b[0;34m\u001b[0m\u001b[0m\n\u001b[1;32m      9\u001b[0m   \u001b[0;32mreturn\u001b[0m \u001b[0ms\u001b[0m\u001b[0;34m[\u001b[0m\u001b[0;34m:\u001b[0m\u001b[0;34m:\u001b[0m\u001b[0;34m-\u001b[0m\u001b[0;36m1\u001b[0m\u001b[0;34m]\u001b[0m\u001b[0;34m\u001b[0m\u001b[0;34m\u001b[0m\u001b[0m\n\u001b[0;32m---> 10\u001b[0;31m \u001b[0;32mwith\u001b[0m \u001b[0mopen\u001b[0m\u001b[0;34m(\u001b[0m\u001b[0;34m'fear.txt'\u001b[0m\u001b[0;34m)\u001b[0m \u001b[0;32mas\u001b[0m \u001b[0mstream\u001b[0m\u001b[0;34m:\u001b[0m\u001b[0;34m\u001b[0m\u001b[0;34m\u001b[0m\u001b[0m\n\u001b[0m\u001b[1;32m     11\u001b[0m   \u001b[0mlines\u001b[0m \u001b[0;34m=\u001b[0m \u001b[0;34m[\u001b[0m\u001b[0mline\u001b[0m\u001b[0;34m.\u001b[0m\u001b[0mrstrip\u001b[0m\u001b[0;34m(\u001b[0m\u001b[0;34m)\u001b[0m \u001b[0;32mfor\u001b[0m \u001b[0mline\u001b[0m \u001b[0;32min\u001b[0m \u001b[0mstream\u001b[0m\u001b[0;34m]\u001b[0m\u001b[0;34m\u001b[0m\u001b[0;34m\u001b[0m\u001b[0m\n\u001b[1;32m     12\u001b[0m \u001b[0;31m# let's write the mirrored version of the file\u001b[0m\u001b[0;34m\u001b[0m\u001b[0;34m\u001b[0m\u001b[0m\n",
            "\u001b[0;31mFileNotFoundError\u001b[0m: [Errno 2] No such file or directory: 'fear.txt'"
          ]
        }
      ]
    },
    {
      "cell_type": "markdown",
      "source": [
        "#EJERCICIO 16"
      ],
      "metadata": {
        "id": "CnedDJOZNEdm"
      }
    },
    {
      "cell_type": "code",
      "source": [
        "# Importar el módulo \"os\" para trabajar con operaciones del sistema de archivos.\n",
        "import os\n",
        "\n",
        "# Utilizar la función \"os.walk\" para recorrer el directorio actual (y sus subdirectorios).\n",
        "for root, dirs, files in os.walk('.'):\n",
        "    # Obtener la ruta absoluta del directorio actual.\n",
        "    abs_root = os.path.abspath(root)\n",
        "\n",
        "    # Imprimir la ruta absoluta del directorio actual.\n",
        "    print(abs_root)\n",
        "\n",
        "    # Si hay subdirectorios en el directorio actual, imprimirlos.\n",
        "    if dirs:\n",
        "        print('Dirctorio:')\n",
        "        for dir_ in dirs:\n",
        "            print(dir_)\n",
        "        print()\n",
        "\n",
        "    # Si hay archivos en el directorio actual, imprimirlos.\n",
        "    if files:\n",
        "        print('Archivos:')\n",
        "        for filename in files:\n",
        "            print(filename)\n",
        "        print()\n"
      ],
      "metadata": {
        "colab": {
          "base_uri": "https://localhost:8080/"
        },
        "id": "F9E21e1HNGeG",
        "outputId": "b960f232-b5b5-442a-c575-fb78eb054946"
      },
      "execution_count": 13,
      "outputs": [
        {
          "output_type": "stream",
          "name": "stdout",
          "text": [
            "/content\n",
            "Dirctorio:\n",
            ".config\n",
            "sample_data\n",
            "\n",
            "Archivos:\n",
            "example.bin\n",
            "data.pickle\n",
            "print_example.txt\n",
            "shelf1.shelve.db\n",
            "\n",
            "/content/.config\n",
            "Dirctorio:\n",
            "configurations\n",
            "logs\n",
            "\n",
            "Archivos:\n",
            "gce\n",
            "default_configs.db\n",
            "active_config\n",
            ".last_survey_prompt.yaml\n",
            "config_sentinel\n",
            ".last_update_check.json\n",
            ".last_opt_in_prompt.yaml\n",
            "\n",
            "/content/.config/configurations\n",
            "Archivos:\n",
            "config_default\n",
            "\n",
            "/content/.config/logs\n",
            "Dirctorio:\n",
            "2023.09.14\n",
            "\n",
            "/content/.config/logs/2023.09.14\n",
            "Archivos:\n",
            "13.22.33.668588.log\n",
            "13.23.06.916289.log\n",
            "13.22.40.967663.log\n",
            "13.23.06.154072.log\n",
            "13.22.09.213761.log\n",
            "13.21.42.998569.log\n",
            "\n",
            "/content/sample_data\n",
            "Archivos:\n",
            "anscombe.json\n",
            "README.md\n",
            "mnist_test.csv\n",
            "california_housing_test.csv\n",
            "mnist_train_small.csv\n",
            "california_housing_train.csv\n",
            "\n"
          ]
        }
      ]
    },
    {
      "cell_type": "markdown",
      "source": [
        "#EJERCICIO 17 TRABAJANDO CON JSON"
      ],
      "metadata": {
        "id": "x9SpluRSOWxU"
      }
    },
    {
      "cell_type": "code",
      "source": [
        "# Importar los módulos necesarios: \"sys\" y \"json\".\n",
        "import sys\n",
        "import json\n",
        "\n",
        "# Crear un diccionario \"data\" con varios tipos de datos, incluyendo un número grande, el valor máximo de un float y una lista.\n",
        "data = {\n",
        "    'big_number': 2 ** 3141,\n",
        "    'max_float': sys.float_info.max,\n",
        "    'a_list': [2, 3, 5, 7],\n",
        "}\n",
        "\n",
        "# Serializar (convertir a JSON) el diccionario \"data\" en una cadena JSON.\n",
        "json_data = json.dumps(data)\n",
        "\n",
        "# Deserializar (convertir desde JSON) la cadena JSON \"json_data\" en un diccionario \"data_out\".\n",
        "data_out = json.loads(json_data)\n",
        "\n",
        "# Verificar que los datos originales (data) y los datos deserializados (data_out) sean iguales.\n",
        "assert data == data_out  # Comprobar que los datos coinciden después de la serialización y deserialización.\n"
      ],
      "metadata": {
        "id": "lHo7tXnROdXt"
      },
      "execution_count": 15,
      "outputs": []
    },
    {
      "cell_type": "markdown",
      "source": [
        "#EJERCICIO 18 CODIFICADOR"
      ],
      "metadata": {
        "id": "xGkv0x4_Vy-R"
      }
    },
    {
      "cell_type": "code",
      "source": [
        "# Importar el módulo \"json\".\n",
        "import json\n",
        "\n",
        "# Definir una clase personalizada \"ComplexEncoder\" que hereda de \"json.JSONEncoder\".\n",
        "class ComplexEncoder(json.JSONEncoder):\n",
        "    def default(self, obj):\n",
        "        print(f\"ComplexEncoder.default: {obj=}\")\n",
        "        if isinstance(obj, complex):\n",
        "            return {\n",
        "                '_meta': '_complex',\n",
        "                'num': [obj.real, obj.imag],\n",
        "            }\n",
        "        return super().default(obj)\n",
        "\n",
        "# Crear un diccionario \"data\" con varios tipos de datos, incluyendo un número complejo.\n",
        "data = {\n",
        "    'an_int': 42,\n",
        "    'a_float': 3.14159265,\n",
        "    'a_complex': 3 + 4j,\n",
        "}\n",
        "\n",
        "# Serializar (convertir a JSON) el diccionario \"data\" utilizando el codificador personalizado \"ComplexEncoder\".\n",
        "json_data = json.dumps(data, cls=ComplexEncoder)\n",
        "\n",
        "# Imprimir la cadena JSON resultante.\n",
        "print(json_data)\n",
        "\n",
        "# Definir una función \"object_hook\" que se utilizará para deserializar el JSON.\n",
        "def object_hook(obj):\n",
        "    print(f\"object_hook: {obj=}\")\n",
        "    try:\n",
        "        if obj['_meta'] == '_complex':\n",
        "            return complex(*obj['num'])\n",
        "    except KeyError:\n",
        "        return obj\n",
        "\n",
        "# Deserializar (convertir desde JSON) la cadena JSON \"json_data\" utilizando el gancho de objetos personalizado \"object_hook\".\n",
        "data_out = json.loads(json_data, object_hook=object_hook)\n",
        "\n",
        "# Imprimir los datos resultantes después de la deserialización.\n",
        "print(data_out)\n"
      ],
      "metadata": {
        "colab": {
          "base_uri": "https://localhost:8080/"
        },
        "id": "VT54EVRlVOYD",
        "outputId": "f2666cd3-3b46-40ad-8575-3098f40dcd0d"
      },
      "execution_count": 16,
      "outputs": [
        {
          "output_type": "stream",
          "name": "stdout",
          "text": [
            "ComplexEncoder.default: obj=(3+4j)\n",
            "{\"an_int\": 42, \"a_float\": 3.14159265, \"a_complex\": {\"_meta\": \"_complex\", \"num\": [3.0, 4.0]}}\n",
            "object_hook: obj={'_meta': '_complex', 'num': [3.0, 4.0]}\n",
            "object_hook: obj={'an_int': 42, 'a_float': 3.14159265, 'a_complex': (3+4j)}\n",
            "{'an_int': 42, 'a_float': 3.14159265, 'a_complex': (3+4j)}\n"
          ]
        }
      ]
    },
    {
      "cell_type": "markdown",
      "source": [
        "#EJERCICIO 19"
      ],
      "metadata": {
        "id": "X3rAxJrkWLAZ"
      }
    },
    {
      "cell_type": "code",
      "source": [
        "# Importar el módulo \"json\" y las clases \"datetime\", \"timedelta\" y \"timezone\" desde el módulo \"datetime\".\n",
        "import json\n",
        "from datetime import datetime, timedelta, timezone\n",
        "\n",
        "# Obtener la fecha y hora actual en la zona horaria local.\n",
        "now = datetime.now()\n",
        "\n",
        "# Obtener la fecha y hora actual en una zona horaria específica (1 hora de diferencia).\n",
        "now_tz = datetime.now(tz=timezone(timedelta(hours=1)))\n",
        "\n",
        "# Definir una clase personalizada \"DatetimeEncoder\" que hereda de \"json.JSONEncoder\".\n",
        "class DatetimeEncoder(json.JSONEncoder):\n",
        "    def default(self, obj):\n",
        "        if isinstance(obj, datetime):\n",
        "            try:\n",
        "                off = obj.utcoffset().seconds\n",
        "            except AttributeError:\n",
        "                off = None\n",
        "            return {\n",
        "                '_meta': '_datetime',\n",
        "                'data': obj.timetuple()[:6] + (obj.microsecond,),\n",
        "                'utcoffset': off,\n",
        "            }\n",
        "        return super().default(obj)\n",
        "\n",
        "# Crear un diccionario \"data\" con varios tipos de datos, incluyendo objetos \"datetime\".\n",
        "data = {\n",
        "    'an_int': 42,\n",
        "    'a_float': 3.14159265,\n",
        "    'a_datetime': now,\n",
        "    'a_datetime_tz': now_tz,\n",
        "}\n",
        "\n",
        "# Serializar (convertir a JSON) el diccionario \"data\" utilizando el codificador personalizado \"DatetimeEncoder\".\n",
        "json_data = json.dumps(data, cls=DatetimeEncoder)\n",
        "\n",
        "# Imprimir la cadena JSON resultante.\n",
        "print(json_data)\n"
      ],
      "metadata": {
        "colab": {
          "base_uri": "https://localhost:8080/"
        },
        "id": "SprInCnMWNDH",
        "outputId": "cdde4948-cd13-4a55-eaa9-331d4cfc1d65"
      },
      "execution_count": 19,
      "outputs": [
        {
          "output_type": "stream",
          "name": "stdout",
          "text": [
            "{\"an_int\": 42, \"a_float\": 3.14159265, \"a_datetime\": {\"_meta\": \"_datetime\", \"data\": [2023, 9, 16, 1, 12, 17, 440637], \"utcoffset\": null}, \"a_datetime_tz\": {\"_meta\": \"_datetime\", \"data\": [2023, 9, 16, 2, 12, 17, 440701], \"utcoffset\": 3600}}\n"
          ]
        }
      ]
    },
    {
      "cell_type": "markdown",
      "source": [
        "#EJERCICIO 20"
      ],
      "metadata": {
        "id": "Mvjo3uguXWZv"
      }
    },
    {
      "cell_type": "code",
      "source": [
        "# Importar el módulo \"pickle\" y la decoración \"dataclass\" del módulo \"dataclasses\".\n",
        "import pickle\n",
        "from dataclasses import dataclass\n",
        "\n",
        "# Definir una clase de datos (dataclass) \"Person\" con tres atributos.\n",
        "@dataclass\n",
        "class Person:\n",
        "    first_name: str\n",
        "    last_name: str\n",
        "    id: int\n",
        "\n",
        "    # Agregar un método \"greet\" para imprimir un saludo personalizado.\n",
        "    def greet(self):\n",
        "        print(f'Hi, I am {self.first_name} {self.last_name}' f' and my ID is {self.id}')\n",
        "\n",
        "# Crear una lista de objetos \"Person\".\n",
        "people = [\n",
        "    Person('Obi-Wan', 'Kenobi', 123),\n",
        "    Person('Anakin', 'Skywalker', 456),\n",
        "]\n",
        "\n",
        "# Guardar los datos en formato binario en un archivo llamado 'data.pickle'.\n",
        "with open('data.pickle', 'wb') as stream:\n",
        "    pickle.dump(people, stream)\n",
        "\n",
        "# Cargar los datos desde el archivo 'data.pickle'.\n",
        "with open('data.pickle', 'rb') as stream:\n",
        "    peeps = pickle.load(stream)\n",
        "\n",
        "# Iterar a través de la lista de objetos \"Person\" y llamar al método \"greet\" para imprimir un saludo personalizado.\n",
        "for person in peeps:\n",
        "    person.greet()\n"
      ],
      "metadata": {
        "colab": {
          "base_uri": "https://localhost:8080/"
        },
        "id": "g5dDsH2xXTel",
        "outputId": "2e990273-893a-4f80-fa49-649889dade92"
      },
      "execution_count": 22,
      "outputs": [
        {
          "output_type": "stream",
          "name": "stdout",
          "text": [
            "Hi, I am Obi-Wan Kenobi and my ID is 123\n",
            "Hi, I am Anakin Skywalker and my ID is 456\n"
          ]
        }
      ]
    },
    {
      "cell_type": "markdown",
      "source": [
        "#EJERCICIO 21"
      ],
      "metadata": {
        "id": "d1I79-eXYKGV"
      }
    },
    {
      "cell_type": "code",
      "source": [
        "# Importar el módulo \"shelve\".\n",
        "import shelve\n",
        "\n",
        "# Definir una clase \"Person\" que tiene un constructor que toma un nombre y un ID.\n",
        "class Person:\n",
        "    def __init__(self, name, id):\n",
        "        self.name = name\n",
        "        self.id = id\n",
        "\n",
        "# Abrir un archivo tipo estante llamado 'shelf1.shelve'.\n",
        "with shelve.open('shelf1.shelve') as db:\n",
        "    # Almacenar objetos en el archivo tipo estante.\n",
        "    db['obi1'] = Person('Obi-Wan', 123)\n",
        "    db['ani'] = Person('Anakin', 456)\n",
        "    db['a_list'] = [2, 3, 5]\n",
        "    db['delete_me'] = 'we will have to delete this one...'\n",
        "\n",
        "    # Imprimir las claves almacenadas en el archivo tipo estante.\n",
        "    print(list(db.keys()))  # Imprime ['ani', 'delete_me', 'a_list', 'obi1']\n",
        "\n",
        "    # Eliminar una clave del archivo tipo estante.\n",
        "    del db['delete_me']\n",
        "\n",
        "    # Imprimir las claves nuevamente después de eliminar una clave.\n",
        "    print(list(db.keys()))  # Imprime ['ani', 'a_list', 'obi1']\n",
        "\n",
        "    # Verificar si una clave ya no está en el archivo tipo estante.\n",
        "    print('delete_me' in db)  # Imprime False\n",
        "\n",
        "    # Verificar si una clave está en el archivo tipo estante.\n",
        "    print('ani' in db)  # Imprime True\n",
        "\n",
        "    # Obtener una lista desde el archivo tipo estante, modificarla y almacenarla de nuevo.\n",
        "    a_list = db['a_list']\n",
        "    a_list.append(7)\n",
        "    db['a_list'] = a_list\n",
        "\n",
        "    # Imprimir la lista almacenada en el archivo tipo estante después de la modificación.\n",
        "    print(db['a_list'])  # Imprime [2, 3, 5, 7]\n"
      ],
      "metadata": {
        "colab": {
          "base_uri": "https://localhost:8080/"
        },
        "id": "bWN-za4DYH0t",
        "outputId": "55077471-d35b-42d8-f4c0-0f873fbba39f"
      },
      "execution_count": 11,
      "outputs": [
        {
          "output_type": "stream",
          "name": "stdout",
          "text": [
            "['a_list', 'ani', 'delete_me', 'obi1']\n",
            "['a_list', 'ani', 'obi1']\n",
            "False\n",
            "True\n",
            "[2, 3, 5, 7]\n"
          ]
        }
      ]
    }
  ]
}