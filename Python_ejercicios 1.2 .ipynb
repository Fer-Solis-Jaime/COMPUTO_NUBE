{
  "nbformat": 4,
  "nbformat_minor": 0,
  "metadata": {
    "colab": {
      "provenance": [],
      "authorship_tag": "ABX9TyMv/POP/LFCCVbn4zndMwLQ",
      "include_colab_link": true
    },
    "kernelspec": {
      "name": "python3",
      "display_name": "Python 3"
    },
    "language_info": {
      "name": "python"
    }
  },
  "cells": [
    {
      "cell_type": "markdown",
      "metadata": {
        "id": "view-in-github",
        "colab_type": "text"
      },
      "source": [
        "<a href=\"https://colab.research.google.com/github/Fer-Solis-Jaime/COMPUTO_NUBE/blob/main/Python_ejercicios%201.2%20.ipynb\" target=\"_parent\"><img src=\"https://colab.research.google.com/assets/colab-badge.svg\" alt=\"Open In Colab\"/></a>"
      ]
    },
    {
      "cell_type": "code",
      "execution_count": null,
      "metadata": {
        "id": "0KbocR5D-qVt"
      },
      "outputs": [],
      "source": []
    },
    {
      "cell_type": "markdown",
      "source": [
        "Ejercicio 1 Scopes"
      ],
      "metadata": {
        "id": "WGpNG9yz_6Sf"
      }
    },
    {
      "cell_type": "code",
      "source": [
        "# scopes3.py\n",
        "# Local, Enclosing and Global\n",
        "def enclosing_func():\n",
        "  m = 13\n",
        "  def local():\n",
        "      # m doesn't belong to the scope defined by the local\n",
        "      # function so Python will keep looking into the next\n",
        "      # enclosing scope. This time m is found in the enclosing\n",
        "      # scope\n",
        "      print(m, 'MUESTRA DE PANTALLA EN EL SCOPE LOCAL')\n",
        "    # calling the function local\n",
        "  local()\n",
        "m = 5\n",
        "print(m, 'MUESTRA DE PANTALLA EN EL SCOPE GLOBAL')\n",
        "enclosing_func()"
      ],
      "metadata": {
        "colab": {
          "base_uri": "https://localhost:8080/"
        },
        "id": "s0eW5tT__M6m",
        "outputId": "2fd385f5-6ac7-4659-e140-c30bcbff7535"
      },
      "execution_count": 4,
      "outputs": [
        {
          "output_type": "stream",
          "name": "stdout",
          "text": [
            "5 MUESTRA DE PANTALLA EN EL SCOPE GLOBAL\n",
            "13 MUESTRA DE PANTALLA EN EL SCOPE LOCAL\n"
          ]
        }
      ]
    },
    {
      "cell_type": "markdown",
      "source": [
        "Ejercico 2 Objetos y clases"
      ],
      "metadata": {
        "id": "k7e_Iy8x__qR"
      }
    },
    {
      "cell_type": "code",
      "source": [
        "# bike.py\n",
        "# let's define the class Bike\n",
        "class Bike:\n",
        "    def __init__(self, colour, frame_material):\n",
        "        self.colour = colour\n",
        "        self.frame_material = frame_material\n",
        "    def brake(self):\n",
        "        print(\"Braking!\")\n",
        "# let's create a couple of instances\n",
        "red_bike = Bike('Red', 'Carbon fiber')\n",
        "blue_bike = Bike('Blue', 'Steel')\n",
        "# let's inspect the objects we have, instances of the Bike class.\n",
        "print(red_bike.colour) # prints: Red\n",
        "print(red_bike.frame_material) # prints: Carbon fiber\n",
        "print(blue_bike.colour) # prints: Blue\n",
        "print(blue_bike.frame_material) # prints: Steel\n",
        "# let's brake!\n",
        "red_bike.brake() # prints: Braking!"
      ],
      "metadata": {
        "colab": {
          "base_uri": "https://localhost:8080/"
        },
        "id": "vqUYyY6UALFt",
        "outputId": "dc41f1c2-ee72-4e23-e527-edab926f587f"
      },
      "execution_count": 5,
      "outputs": [
        {
          "output_type": "stream",
          "name": "stdout",
          "text": [
            "Red\n",
            "Carbon fiber\n",
            "Blue\n",
            "Steel\n",
            "Braking!\n"
          ]
        }
      ]
    }
  ]
}